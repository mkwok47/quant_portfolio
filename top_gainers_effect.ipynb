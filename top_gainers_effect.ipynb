{
 "cells": [
  {
   "cell_type": "markdown",
   "metadata": {},
   "source": [
    "# Purpose\n",
    "- examine the interday gap (if any) and intraday change for top gainers (following a day of a lot of gain)\n",
    "- examinne whether a positive or negative interday gap correlates with the following intraday change"
   ]
  },
  {
   "cell_type": "code",
   "execution_count": null,
   "metadata": {},
   "outputs": [],
   "source": [
    "import pandas as pd\n",
    "pd.set_option('display.float_format', lambda x: '%.2f' % x)\n",
    "from datetime import datetime, timedelta\n",
    "import yahoo_fin.stock_info as si\n",
    "import sys\n",
    "sys.path.append(<PATH>)\n",
    "%cd <PATH>\n",
    "import tda_data\n",
    "import time\n",
    "import seaborn as sns\n",
    "import matplotlib.pyplot as plt\n",
    "print('\\nPackages imported', datetime.now(), '\\n')"
   ]
  },
  {
   "cell_type": "code",
   "execution_count": 14,
   "metadata": {
    "scrolled": true
   },
   "outputs": [
    {
     "data": {
      "text/html": [
       "<div>\n",
       "<style scoped>\n",
       "    .dataframe tbody tr th:only-of-type {\n",
       "        vertical-align: middle;\n",
       "    }\n",
       "\n",
       "    .dataframe tbody tr th {\n",
       "        vertical-align: top;\n",
       "    }\n",
       "\n",
       "    .dataframe thead th {\n",
       "        text-align: right;\n",
       "    }\n",
       "</style>\n",
       "<table border=\"1\" class=\"dataframe\">\n",
       "  <thead>\n",
       "    <tr style=\"text-align: right;\">\n",
       "      <th></th>\n",
       "      <th>Symbol</th>\n",
       "      <th>Name</th>\n",
       "      <th>Price (Intraday)</th>\n",
       "      <th>Change</th>\n",
       "      <th>% Change</th>\n",
       "      <th>Volume</th>\n",
       "      <th>Avg Vol (3 month)</th>\n",
       "      <th>Market Cap</th>\n",
       "      <th>PE Ratio (TTM)</th>\n",
       "      <th>PV</th>\n",
       "    </tr>\n",
       "  </thead>\n",
       "  <tbody>\n",
       "    <tr>\n",
       "      <th>3</th>\n",
       "      <td>CHGG</td>\n",
       "      <td>Chegg, Inc.</td>\n",
       "      <td>25.75</td>\n",
       "      <td>4.64</td>\n",
       "      <td>21.98</td>\n",
       "      <td>10311000.00</td>\n",
       "      <td>1536000.00</td>\n",
       "      <td>3255000000.00</td>\n",
       "      <td>85.83</td>\n",
       "      <td>265508250.00</td>\n",
       "    </tr>\n",
       "    <tr>\n",
       "      <th>6</th>\n",
       "      <td>SMCI</td>\n",
       "      <td>Super Micro Computer, Inc.</td>\n",
       "      <td>80.84</td>\n",
       "      <td>8.98</td>\n",
       "      <td>12.50</td>\n",
       "      <td>3636000.00</td>\n",
       "      <td>636753.00</td>\n",
       "      <td>4232000000.00</td>\n",
       "      <td>14.72</td>\n",
       "      <td>293934240.00</td>\n",
       "    </tr>\n",
       "    <tr>\n",
       "      <th>7</th>\n",
       "      <td>LI</td>\n",
       "      <td>Li Auto Inc.</td>\n",
       "      <td>16.32</td>\n",
       "      <td>1.76</td>\n",
       "      <td>12.09</td>\n",
       "      <td>38540000.00</td>\n",
       "      <td>10431000.00</td>\n",
       "      <td>15924000000.00</td>\n",
       "      <td>1632.00</td>\n",
       "      <td>628972800.00</td>\n",
       "    </tr>\n",
       "    <tr>\n",
       "      <th>9</th>\n",
       "      <td>HZNP</td>\n",
       "      <td>Horizon Therapeutics Public Limited Company</td>\n",
       "      <td>70.33</td>\n",
       "      <td>7.15</td>\n",
       "      <td>11.32</td>\n",
       "      <td>7381000.00</td>\n",
       "      <td>3149000.00</td>\n",
       "      <td>16203000000.00</td>\n",
       "      <td>22.69</td>\n",
       "      <td>519105730.00</td>\n",
       "    </tr>\n",
       "    <tr>\n",
       "      <th>11</th>\n",
       "      <td>UTHR</td>\n",
       "      <td>United Therapeutics Corporation</td>\n",
       "      <td>253.65</td>\n",
       "      <td>25.26</td>\n",
       "      <td>11.06</td>\n",
       "      <td>1702000.00</td>\n",
       "      <td>356043.00</td>\n",
       "      <td>11545000000.00</td>\n",
       "      <td>19.38</td>\n",
       "      <td>431712300.00</td>\n",
       "    </tr>\n",
       "    <tr>\n",
       "      <th>13</th>\n",
       "      <td>SCI</td>\n",
       "      <td>Service Corporation International</td>\n",
       "      <td>67.49</td>\n",
       "      <td>6.34</td>\n",
       "      <td>10.37</td>\n",
       "      <td>2859000.00</td>\n",
       "      <td>1123000.00</td>\n",
       "      <td>10641000000.00</td>\n",
       "      <td>14.55</td>\n",
       "      <td>192953910.00</td>\n",
       "    </tr>\n",
       "    <tr>\n",
       "      <th>23</th>\n",
       "      <td>YUMC</td>\n",
       "      <td>Yum China Holdings, Inc.</td>\n",
       "      <td>46.32</td>\n",
       "      <td>3.26</td>\n",
       "      <td>7.57</td>\n",
       "      <td>4299000.00</td>\n",
       "      <td>2217000.00</td>\n",
       "      <td>19396000000.00</td>\n",
       "      <td>26.32</td>\n",
       "      <td>199129680.00</td>\n",
       "    </tr>\n",
       "    <tr>\n",
       "      <th>24</th>\n",
       "      <td>INSP</td>\n",
       "      <td>Inspire Medical Systems, Inc.</td>\n",
       "      <td>206.79</td>\n",
       "      <td>14.53</td>\n",
       "      <td>7.56</td>\n",
       "      <td>895979.00</td>\n",
       "      <td>298268.00</td>\n",
       "      <td>5953000000.00</td>\n",
       "      <td>NaN</td>\n",
       "      <td>185279497.41</td>\n",
       "    </tr>\n",
       "    <tr>\n",
       "      <th>25</th>\n",
       "      <td>NYT</td>\n",
       "      <td>The New York Times Company</td>\n",
       "      <td>31.33</td>\n",
       "      <td>2.19</td>\n",
       "      <td>7.52</td>\n",
       "      <td>3370000.00</td>\n",
       "      <td>1464000.00</td>\n",
       "      <td>5209000000.00</td>\n",
       "      <td>27.48</td>\n",
       "      <td>105582100.00</td>\n",
       "    </tr>\n",
       "    <tr>\n",
       "      <th>27</th>\n",
       "      <td>NVO</td>\n",
       "      <td>Novo Nordisk A/S</td>\n",
       "      <td>113.30</td>\n",
       "      <td>6.87</td>\n",
       "      <td>6.45</td>\n",
       "      <td>2143000.00</td>\n",
       "      <td>1707000.00</td>\n",
       "      <td>257415000000.00</td>\n",
       "      <td>38.28</td>\n",
       "      <td>242801900.00</td>\n",
       "    </tr>\n",
       "    <tr>\n",
       "      <th>28</th>\n",
       "      <td>FRPT</td>\n",
       "      <td>Freshpet, Inc.</td>\n",
       "      <td>63.12</td>\n",
       "      <td>3.70</td>\n",
       "      <td>6.23</td>\n",
       "      <td>1699000.00</td>\n",
       "      <td>1171000.00</td>\n",
       "      <td>3018000000.00</td>\n",
       "      <td>NaN</td>\n",
       "      <td>107240880.00</td>\n",
       "    </tr>\n",
       "    <tr>\n",
       "      <th>37</th>\n",
       "      <td>HTHT</td>\n",
       "      <td>H World Group Limited</td>\n",
       "      <td>31.55</td>\n",
       "      <td>1.55</td>\n",
       "      <td>5.17</td>\n",
       "      <td>3518000.00</td>\n",
       "      <td>1155000.00</td>\n",
       "      <td>10270000000.00</td>\n",
       "      <td>NaN</td>\n",
       "      <td>110992900.00</td>\n",
       "    </tr>\n",
       "    <tr>\n",
       "      <th>44</th>\n",
       "      <td>CRUS</td>\n",
       "      <td>Cirrus Logic, Inc.</td>\n",
       "      <td>70.90</td>\n",
       "      <td>3.05</td>\n",
       "      <td>4.50</td>\n",
       "      <td>1812000.00</td>\n",
       "      <td>499034.00</td>\n",
       "      <td>3966000000.00</td>\n",
       "      <td>11.86</td>\n",
       "      <td>128470800.00</td>\n",
       "    </tr>\n",
       "    <tr>\n",
       "      <th>45</th>\n",
       "      <td>RNR</td>\n",
       "      <td>RenaissanceRe Holdings Ltd.</td>\n",
       "      <td>161.11</td>\n",
       "      <td>6.82</td>\n",
       "      <td>4.42</td>\n",
       "      <td>660077.00</td>\n",
       "      <td>449315.00</td>\n",
       "      <td>7041000000.00</td>\n",
       "      <td>NaN</td>\n",
       "      <td>106345005.47</td>\n",
       "    </tr>\n",
       "    <tr>\n",
       "      <th>51</th>\n",
       "      <td>MTCH</td>\n",
       "      <td>Match Group, Inc.</td>\n",
       "      <td>45.74</td>\n",
       "      <td>1.84</td>\n",
       "      <td>4.19</td>\n",
       "      <td>16572000.00</td>\n",
       "      <td>3762000.00</td>\n",
       "      <td>12944000000.00</td>\n",
       "      <td>127.06</td>\n",
       "      <td>758003280.00</td>\n",
       "    </tr>\n",
       "    <tr>\n",
       "      <th>52</th>\n",
       "      <td>APO</td>\n",
       "      <td>Apollo Global Management, Inc.</td>\n",
       "      <td>59.49</td>\n",
       "      <td>2.32</td>\n",
       "      <td>4.06</td>\n",
       "      <td>4677000.00</td>\n",
       "      <td>2481000.00</td>\n",
       "      <td>35694000000.00</td>\n",
       "      <td>8.74</td>\n",
       "      <td>278234730.00</td>\n",
       "    </tr>\n",
       "    <tr>\n",
       "      <th>53</th>\n",
       "      <td>TRQ</td>\n",
       "      <td>Turquoise Hill Resources Ltd.</td>\n",
       "      <td>30.77</td>\n",
       "      <td>1.16</td>\n",
       "      <td>3.92</td>\n",
       "      <td>5510000.00</td>\n",
       "      <td>1725000.00</td>\n",
       "      <td>6200000000.00</td>\n",
       "      <td>10.83</td>\n",
       "      <td>169542700.00</td>\n",
       "    </tr>\n",
       "    <tr>\n",
       "      <th>54</th>\n",
       "      <td>TCOM</td>\n",
       "      <td>Trip.com Group Limited</td>\n",
       "      <td>25.50</td>\n",
       "      <td>0.96</td>\n",
       "      <td>3.91</td>\n",
       "      <td>6895000.00</td>\n",
       "      <td>4603000.00</td>\n",
       "      <td>16365000000.00</td>\n",
       "      <td>NaN</td>\n",
       "      <td>175822500.00</td>\n",
       "    </tr>\n",
       "    <tr>\n",
       "      <th>61</th>\n",
       "      <td>CRL</td>\n",
       "      <td>Charles River Laboratories International, Inc.</td>\n",
       "      <td>214.95</td>\n",
       "      <td>7.66</td>\n",
       "      <td>3.70</td>\n",
       "      <td>1093000.00</td>\n",
       "      <td>596943.00</td>\n",
       "      <td>10933000000.00</td>\n",
       "      <td>25.23</td>\n",
       "      <td>234940350.00</td>\n",
       "    </tr>\n",
       "    <tr>\n",
       "      <th>62</th>\n",
       "      <td>JD</td>\n",
       "      <td>JD.com, Inc.</td>\n",
       "      <td>39.84</td>\n",
       "      <td>1.40</td>\n",
       "      <td>3.64</td>\n",
       "      <td>13569000.00</td>\n",
       "      <td>8456000.00</td>\n",
       "      <td>62210000000.00</td>\n",
       "      <td>NaN</td>\n",
       "      <td>540588960.00</td>\n",
       "    </tr>\n",
       "    <tr>\n",
       "      <th>75</th>\n",
       "      <td>DD</td>\n",
       "      <td>DuPont de Nemours, Inc.</td>\n",
       "      <td>60.50</td>\n",
       "      <td>1.80</td>\n",
       "      <td>3.07</td>\n",
       "      <td>7765000.00</td>\n",
       "      <td>2883000.00</td>\n",
       "      <td>30305000000.00</td>\n",
       "      <td>20.30</td>\n",
       "      <td>469782500.00</td>\n",
       "    </tr>\n",
       "    <tr>\n",
       "      <th>76</th>\n",
       "      <td>XPEV</td>\n",
       "      <td>XPeng Inc.</td>\n",
       "      <td>6.61</td>\n",
       "      <td>0.20</td>\n",
       "      <td>3.12</td>\n",
       "      <td>48064000.00</td>\n",
       "      <td>21371000.00</td>\n",
       "      <td>6173000000.00</td>\n",
       "      <td>NaN</td>\n",
       "      <td>317703040.00</td>\n",
       "    </tr>\n",
       "  </tbody>\n",
       "</table>\n",
       "</div>"
      ],
      "text/plain": [
       "   Symbol                                            Name  Price (Intraday)  \\\n",
       "3    CHGG                                     Chegg, Inc.             25.75   \n",
       "6    SMCI                      Super Micro Computer, Inc.             80.84   \n",
       "7      LI                                    Li Auto Inc.             16.32   \n",
       "9    HZNP     Horizon Therapeutics Public Limited Company             70.33   \n",
       "11   UTHR                 United Therapeutics Corporation            253.65   \n",
       "13    SCI               Service Corporation International             67.49   \n",
       "23   YUMC                        Yum China Holdings, Inc.             46.32   \n",
       "24   INSP                   Inspire Medical Systems, Inc.            206.79   \n",
       "25    NYT                      The New York Times Company             31.33   \n",
       "27    NVO                                Novo Nordisk A/S            113.30   \n",
       "28   FRPT                                  Freshpet, Inc.             63.12   \n",
       "37   HTHT                           H World Group Limited             31.55   \n",
       "44   CRUS                              Cirrus Logic, Inc.             70.90   \n",
       "45    RNR                     RenaissanceRe Holdings Ltd.            161.11   \n",
       "51   MTCH                               Match Group, Inc.             45.74   \n",
       "52    APO                  Apollo Global Management, Inc.             59.49   \n",
       "53    TRQ                   Turquoise Hill Resources Ltd.             30.77   \n",
       "54   TCOM                          Trip.com Group Limited             25.50   \n",
       "61    CRL  Charles River Laboratories International, Inc.            214.95   \n",
       "62     JD                                    JD.com, Inc.             39.84   \n",
       "75     DD                         DuPont de Nemours, Inc.             60.50   \n",
       "76   XPEV                                      XPeng Inc.              6.61   \n",
       "\n",
       "    Change  % Change      Volume  Avg Vol (3 month)      Market Cap  \\\n",
       "3     4.64     21.98 10311000.00         1536000.00   3255000000.00   \n",
       "6     8.98     12.50  3636000.00          636753.00   4232000000.00   \n",
       "7     1.76     12.09 38540000.00        10431000.00  15924000000.00   \n",
       "9     7.15     11.32  7381000.00         3149000.00  16203000000.00   \n",
       "11   25.26     11.06  1702000.00          356043.00  11545000000.00   \n",
       "13    6.34     10.37  2859000.00         1123000.00  10641000000.00   \n",
       "23    3.26      7.57  4299000.00         2217000.00  19396000000.00   \n",
       "24   14.53      7.56   895979.00          298268.00   5953000000.00   \n",
       "25    2.19      7.52  3370000.00         1464000.00   5209000000.00   \n",
       "27    6.87      6.45  2143000.00         1707000.00 257415000000.00   \n",
       "28    3.70      6.23  1699000.00         1171000.00   3018000000.00   \n",
       "37    1.55      5.17  3518000.00         1155000.00  10270000000.00   \n",
       "44    3.05      4.50  1812000.00          499034.00   3966000000.00   \n",
       "45    6.82      4.42   660077.00          449315.00   7041000000.00   \n",
       "51    1.84      4.19 16572000.00         3762000.00  12944000000.00   \n",
       "52    2.32      4.06  4677000.00         2481000.00  35694000000.00   \n",
       "53    1.16      3.92  5510000.00         1725000.00   6200000000.00   \n",
       "54    0.96      3.91  6895000.00         4603000.00  16365000000.00   \n",
       "61    7.66      3.70  1093000.00          596943.00  10933000000.00   \n",
       "62    1.40      3.64 13569000.00         8456000.00  62210000000.00   \n",
       "75    1.80      3.07  7765000.00         2883000.00  30305000000.00   \n",
       "76    0.20      3.12 48064000.00        21371000.00   6173000000.00   \n",
       "\n",
       "    PE Ratio (TTM)           PV  \n",
       "3            85.83 265508250.00  \n",
       "6            14.72 293934240.00  \n",
       "7          1632.00 628972800.00  \n",
       "9            22.69 519105730.00  \n",
       "11           19.38 431712300.00  \n",
       "13           14.55 192953910.00  \n",
       "23           26.32 199129680.00  \n",
       "24             NaN 185279497.41  \n",
       "25           27.48 105582100.00  \n",
       "27           38.28 242801900.00  \n",
       "28             NaN 107240880.00  \n",
       "37             NaN 110992900.00  \n",
       "44           11.86 128470800.00  \n",
       "45             NaN 106345005.47  \n",
       "51          127.06 758003280.00  \n",
       "52            8.74 278234730.00  \n",
       "53           10.83 169542700.00  \n",
       "54             NaN 175822500.00  \n",
       "61           25.23 234940350.00  \n",
       "62             NaN 540588960.00  \n",
       "75           20.30 469782500.00  \n",
       "76             NaN 317703040.00  "
      ]
     },
     "execution_count": 14,
     "metadata": {},
     "output_type": "execute_result"
    }
   ],
   "source": [
    "top_gainers = si.get_day_gainers()\n",
    "top_gainers['PV'] = top_gainers['Price (Intraday)'] * top_gainers['Volume']\n",
    "top_gainers = top_gainers[top_gainers['PV']>=100000000]\n",
    "top_gainers"
   ]
  },
  {
   "cell_type": "code",
   "execution_count": 18,
   "metadata": {},
   "outputs": [
    {
     "name": "stdout",
     "output_type": "stream",
     "text": [
      "22 total tickers\n"
     ]
    }
   ],
   "source": [
    "tickers = top_gainers.Symbol.to_list()\n",
    "\n",
    "dfs = {ticker: None for ticker in tickers}\n",
    "assert len(tickers) == len(set(tickers))\n",
    "print(len(tickers), 'total tickers')\n",
    "\n",
    "for ticker in tickers:\n",
    "    \n",
    "    # print(ticker)\n",
    "    \n",
    "    dfs[ticker] = tda_data.daily_adj(ticker).copy(deep=True)\n",
    "    for col in ['open','high','low','close']:\n",
    "        dfs[ticker][col] = dfs[ticker][col].astype(float)\n",
    "    \n",
    "    # predictors\n",
    "    dfs[ticker]['interday'] = dfs[ticker]['open'] / dfs[ticker]['close'].shift(1) - 1\n",
    "    dfs[ticker]['intraday'] = dfs[ticker]['close'] / dfs[ticker]['open'] - 1\n",
    "    dfs[ticker]['change'] = dfs[ticker]['close'] / dfs[ticker]['close'].shift(1) - 1\n",
    "    dfs[ticker]['drawup'] = dfs[ticker]['high'] / dfs[ticker]['open'] - 1\n",
    "    \n",
    "    # response\n",
    "    dfs[ticker]['intraday_t1'] = dfs[ticker]['intraday'].shift(-1)\n",
    "    dfs[ticker]['interday_t1'] = dfs[ticker]['interday'].shift(-1)\n",
    "    dfs[ticker]['change_t1'] = dfs[ticker]['change'].shift(-1)\n",
    "    dfs[ticker]['drawup_t1'] = dfs[ticker]['drawup'].shift(-1)"
   ]
  },
  {
   "cell_type": "code",
   "execution_count": 31,
   "metadata": {},
   "outputs": [],
   "source": [
    "def run_func(trigger):\n",
    "    \n",
    "    results_df = pd.DataFrame()\n",
    "\n",
    "    for ticker in tickers:\n",
    "\n",
    "        # for loop\n",
    "\n",
    "        df = dfs[ticker].copy(deep=True)\n",
    "        df.reset_index(inplace=True)\n",
    "        df.rename(columns={'index':'date'}, inplace=True)\n",
    "\n",
    "        for index, row in df.iterrows():\n",
    "\n",
    "            if index == df.index.max():\n",
    "                continue\n",
    "\n",
    "            if df.at[index, 'change'] >= trigger:\n",
    "\n",
    "                results_df.at[index, 'ticker'] = ticker\n",
    "\n",
    "                for col in ['date', 'intraday', 'change', 'intraday_t1', 'interday_t1', 'change_t1', 'drawup_t1']:\n",
    "                    results_df.at[index, col] = df.at[index, col]\n",
    "\n",
    "    ##############################################################################################################\n",
    "\n",
    "    # cleanup\n",
    "    results_df_2 = results_df[(results_df['intraday_t1']<=1) & (results_df['interday_t1']<=1) & (results_df['change_t1']<=1)]\n",
    "    results_df_2 = results_df_2[(results_df_2['intraday_t1']>=-1) & (results_df_2['interday_t1']>=-1) & (results_df_2['change_t1']>=-1)]\n",
    "    results_df_2 = results_df_2.sort_values('date')\n",
    "    \n",
    "    print('original')\n",
    "    display(results_df_2['intraday_t1'].describe())\n",
    "    print('')\n",
    "\n",
    "    print('\\nconditioned on negative interday')\n",
    "    display(results_df_2[results_df_2['interday_t1']<0]['intraday_t1'].describe())\n",
    "    original_len = len(results_df_2[(results_df_2['interday_t1']<0)])\n",
    "    print(len(results_df_2[(results_df_2['interday_t1']<0) & (results_df_2['intraday_t1']>0)]) / original_len, 'win')\n",
    "    print(len(results_df_2[(results_df_2['interday_t1']<0) & (results_df_2['intraday_t1']<0)]) / original_len, 'loss')\n",
    "    print(len(results_df_2[(results_df_2['interday_t1']<0) & (results_df_2['intraday_t1']==0)]) / original_len, 'zero')\n",
    "    print('')\n",
    "\n",
    "    print('\\nconditioned on positive interday')\n",
    "    display(results_df_2[results_df_2['interday_t1']>0]['intraday_t1'].describe())\n",
    "    original_len = len(results_df_2[(results_df_2['interday_t1']>0)])\n",
    "    print(len(results_df_2[(results_df_2['interday_t1']>0) & (results_df_2['intraday_t1']<0)]) / original_len, 'win')\n",
    "    print(len(results_df_2[(results_df_2['interday_t1']>0) & (results_df_2['intraday_t1']>0)]) / original_len, 'loss')\n",
    "    print(len(results_df_2[(results_df_2['interday_t1']>0) & (results_df_2['intraday_t1']==0)]) / original_len, 'zero')\n",
    "    print('')\n",
    "\n",
    "    ##############################################################################################################\n",
    "\n",
    "    sns.histplot(results_df_2['intraday_t1'])\n",
    "    plt.title('unfiltered intraday_t1')\n",
    "    plt.show()\n",
    "\n",
    "    sns.histplot(results_df_2[results_df_2['interday_t1']<0]['intraday_t1'])\n",
    "    plt.title('intraday_t1 conditioned on interday_t1 < 0')\n",
    "    plt.show()\n",
    "\n",
    "    sns.histplot(results_df_2[results_df_2['interday_t1']>0]['intraday_t1'])\n",
    "    plt.title('intraday_t1 conditioned on interday_t1 > 0')\n",
    "    plt.show()\n",
    "\n",
    "    ##############################################################################################################\n",
    "\n",
    "    longs = results_df_2[results_df_2['interday_t1']<0].copy(deep=True).reset_index(drop=True)\n",
    "    shorts = results_df_2[results_df_2['interday_t1']>0].copy(deep=True).reset_index(drop=True)\n",
    "\n",
    "    plt.plot(longs['date'], longs['intraday_t1'].cumsum())\n",
    "    plt.title('longs')\n",
    "    plt.show()\n",
    "\n",
    "    plt.plot(shorts['date'], shorts['intraday_t1'].cumsum())\n",
    "    plt.title('shorts')\n",
    "    plt.show()"
   ]
  },
  {
   "cell_type": "code",
   "execution_count": 32,
   "metadata": {
    "scrolled": true
   },
   "outputs": [
    {
     "name": "stdout",
     "output_type": "stream",
     "text": [
      "original\n"
     ]
    },
    {
     "data": {
      "text/plain": [
       "count   2646.00\n",
       "mean       0.00\n",
       "std        0.04\n",
       "min       -0.20\n",
       "25%       -0.02\n",
       "50%       -0.00\n",
       "75%        0.02\n",
       "max        0.41\n",
       "Name: intraday_t1, dtype: float64"
      ]
     },
     "metadata": {},
     "output_type": "display_data"
    },
    {
     "name": "stdout",
     "output_type": "stream",
     "text": [
      "\n",
      "\n",
      "conditioned on negative interday\n"
     ]
    },
    {
     "data": {
      "text/plain": [
       "count   1177.00\n",
       "mean       0.00\n",
       "std        0.04\n",
       "min       -0.13\n",
       "25%       -0.02\n",
       "50%        0.00\n",
       "75%        0.02\n",
       "max        0.26\n",
       "Name: intraday_t1, dtype: float64"
      ]
     },
     "metadata": {},
     "output_type": "display_data"
    },
    {
     "name": "stdout",
     "output_type": "stream",
     "text": [
      "0.5038232795242141 win\n",
      "0.47578589634664403 loss\n",
      "0.020390824129141887 zero\n",
      "\n",
      "\n",
      "conditioned on positive interday\n"
     ]
    },
    {
     "data": {
      "text/plain": [
       "count   1282.00\n",
       "mean      -0.00\n",
       "std        0.04\n",
       "min       -0.20\n",
       "25%       -0.02\n",
       "50%       -0.00\n",
       "75%        0.02\n",
       "max        0.41\n",
       "Name: intraday_t1, dtype: float64"
      ]
     },
     "metadata": {},
     "output_type": "display_data"
    },
    {
     "name": "stdout",
     "output_type": "stream",
     "text": [
      "0.5335413416536662 win\n",
      "0.44305772230889234 loss\n",
      "0.0234009360374415 zero\n",
      "\n"
     ]
    },
    {
     "data": {
      "image/png": "[encoded data removed]",
      "text/plain": [
       "<Figure size 432x288 with 1 Axes>"
      ]
     },
     "metadata": {
      "needs_background": "light"
     },
     "output_type": "display_data"
    },
    {
     "data": {
      "image/png": "[encoded data removed]",
      "text/plain": [
       "<Figure size 432x288 with 1 Axes>"
      ]
     },
     "metadata": {
      "needs_background": "light"
     },
     "output_type": "display_data"
    },
    {
     "data": {
      "image/png": "[encoded data removed]",
      "text/plain": [
       "<Figure size 432x288 with 1 Axes>"
      ]
     },
     "metadata": {
      "needs_background": "light"
     },
     "output_type": "display_data"
    },
    {
     "name": "stderr",
     "output_type": "stream",
     "text": [
      "/Users/michaelkwok/opt/anaconda3/lib/python3.7/site-packages/matplotlib/cbook/__init__.py:1402: FutureWarning: Support for multi-dimensional indexing (e.g. `obj[:, None]`) is deprecated and will be removed in a future version.  Convert to a numpy array before indexing instead.\n",
      "  x[:, None]\n",
      "/Users/michaelkwok/opt/anaconda3/lib/python3.7/site-packages/matplotlib/cbook/__init__.py:1402: FutureWarning: Support for multi-dimensional indexing (e.g. `obj[:, None]`) is deprecated and will be removed in a future version.  Convert to a numpy array before indexing instead.\n",
      "  x[:, None]\n",
      "/Users/michaelkwok/opt/anaconda3/lib/python3.7/site-packages/matplotlib/axes/_base.py:276: FutureWarning: Support for multi-dimensional indexing (e.g. `obj[:, None]`) is deprecated and will be removed in a future version.  Convert to a numpy array before indexing instead.\n",
      "  x = x[:, np.newaxis]\n",
      "/Users/michaelkwok/opt/anaconda3/lib/python3.7/site-packages/matplotlib/axes/_base.py:278: FutureWarning: Support for multi-dimensional indexing (e.g. `obj[:, None]`) is deprecated and will be removed in a future version.  Convert to a numpy array before indexing instead.\n",
      "  y = y[:, np.newaxis]\n"
     ]
    },
    {
     "data": {
      "image/png": "[encoded data removed]",
      "text/plain": [
       "<Figure size 432x288 with 1 Axes>"
      ]
     },
     "metadata": {
      "needs_background": "light"
     },
     "output_type": "display_data"
    },
    {
     "name": "stderr",
     "output_type": "stream",
     "text": [
      "/Users/michaelkwok/opt/anaconda3/lib/python3.7/site-packages/matplotlib/cbook/__init__.py:1402: FutureWarning: Support for multi-dimensional indexing (e.g. `obj[:, None]`) is deprecated and will be removed in a future version.  Convert to a numpy array before indexing instead.\n",
      "  x[:, None]\n",
      "/Users/michaelkwok/opt/anaconda3/lib/python3.7/site-packages/matplotlib/axes/_base.py:276: FutureWarning: Support for multi-dimensional indexing (e.g. `obj[:, None]`) is deprecated and will be removed in a future version.  Convert to a numpy array before indexing instead.\n",
      "  x = x[:, np.newaxis]\n",
      "/Users/michaelkwok/opt/anaconda3/lib/python3.7/site-packages/matplotlib/axes/_base.py:278: FutureWarning: Support for multi-dimensional indexing (e.g. `obj[:, None]`) is deprecated and will be removed in a future version.  Convert to a numpy array before indexing instead.\n",
      "  y = y[:, np.newaxis]\n"
     ]
    },
    {
     "data": {
      "image/png": "[encoded data removed]",
      "text/plain": [
       "<Figure size 432x288 with 1 Axes>"
      ]
     },
     "metadata": {
      "needs_background": "light"
     },
     "output_type": "display_data"
    }
   ],
   "source": [
    "run_func(.05)"
   ]
  },
  {
   "cell_type": "code",
   "execution_count": 33,
   "metadata": {},
   "outputs": [
    {
     "name": "stdout",
     "output_type": "stream",
     "text": [
      "original\n"
     ]
    },
    {
     "data": {
      "text/plain": [
       "count   578.00\n",
       "mean     -0.00\n",
       "std       0.06\n",
       "min      -0.20\n",
       "25%      -0.03\n",
       "50%      -0.00\n",
       "75%       0.03\n",
       "max       0.41\n",
       "Name: intraday_t1, dtype: float64"
      ]
     },
     "metadata": {},
     "output_type": "display_data"
    },
    {
     "name": "stdout",
     "output_type": "stream",
     "text": [
      "\n",
      "\n",
      "conditioned on negative interday\n"
     ]
    },
    {
     "data": {
      "text/plain": [
       "count   266.00\n",
       "mean      0.00\n",
       "std       0.05\n",
       "min      -0.17\n",
       "25%      -0.02\n",
       "50%      -0.00\n",
       "75%       0.03\n",
       "max       0.12\n",
       "Name: intraday_t1, dtype: float64"
      ]
     },
     "metadata": {},
     "output_type": "display_data"
    },
    {
     "name": "stdout",
     "output_type": "stream",
     "text": [
      "0.462406015037594 win\n",
      "0.5225563909774437 loss\n",
      "0.015037593984962405 zero\n",
      "\n",
      "\n",
      "conditioned on positive interday\n"
     ]
    },
    {
     "data": {
      "text/plain": [
       "count   268.00\n",
       "mean     -0.00\n",
       "std       0.07\n",
       "min      -0.20\n",
       "25%      -0.04\n",
       "50%      -0.01\n",
       "75%       0.02\n",
       "max       0.41\n",
       "Name: intraday_t1, dtype: float64"
      ]
     },
     "metadata": {},
     "output_type": "display_data"
    },
    {
     "name": "stdout",
     "output_type": "stream",
     "text": [
      "0.5485074626865671 win\n",
      "0.4291044776119403 loss\n",
      "0.022388059701492536 zero\n",
      "\n"
     ]
    },
    {
     "data": {
      "image/png": "[encoded data removed]",
      "text/plain": [
       "<Figure size 432x288 with 1 Axes>"
      ]
     },
     "metadata": {
      "needs_background": "light"
     },
     "output_type": "display_data"
    },
    {
     "data": {
      "image/png": "[encoded data removed]",
      "text/plain": [
       "<Figure size 432x288 with 1 Axes>"
      ]
     },
     "metadata": {
      "needs_background": "light"
     },
     "output_type": "display_data"
    },
    {
     "data": {
      "image/png": "[encoded data removed]",
      "text/plain": [
       "<Figure size 432x288 with 1 Axes>"
      ]
     },
     "metadata": {
      "needs_background": "light"
     },
     "output_type": "display_data"
    },
    {
     "name": "stderr",
     "output_type": "stream",
     "text": [
      "/Users/michaelkwok/opt/anaconda3/lib/python3.7/site-packages/matplotlib/cbook/__init__.py:1402: FutureWarning: Support for multi-dimensional indexing (e.g. `obj[:, None]`) is deprecated and will be removed in a future version.  Convert to a numpy array before indexing instead.\n",
      "  x[:, None]\n",
      "/Users/michaelkwok/opt/anaconda3/lib/python3.7/site-packages/matplotlib/cbook/__init__.py:1402: FutureWarning: Support for multi-dimensional indexing (e.g. `obj[:, None]`) is deprecated and will be removed in a future version.  Convert to a numpy array before indexing instead.\n",
      "  x[:, None]\n",
      "/Users/michaelkwok/opt/anaconda3/lib/python3.7/site-packages/matplotlib/axes/_base.py:276: FutureWarning: Support for multi-dimensional indexing (e.g. `obj[:, None]`) is deprecated and will be removed in a future version.  Convert to a numpy array before indexing instead.\n",
      "  x = x[:, np.newaxis]\n",
      "/Users/michaelkwok/opt/anaconda3/lib/python3.7/site-packages/matplotlib/axes/_base.py:278: FutureWarning: Support for multi-dimensional indexing (e.g. `obj[:, None]`) is deprecated and will be removed in a future version.  Convert to a numpy array before indexing instead.\n",
      "  y = y[:, np.newaxis]\n"
     ]
    },
    {
     "data": {
      "image/png": "[encoded data removed]",
      "text/plain": [
       "<Figure size 432x288 with 1 Axes>"
      ]
     },
     "metadata": {
      "needs_background": "light"
     },
     "output_type": "display_data"
    },
    {
     "name": "stderr",
     "output_type": "stream",
     "text": [
      "/Users/michaelkwok/opt/anaconda3/lib/python3.7/site-packages/matplotlib/cbook/__init__.py:1402: FutureWarning: Support for multi-dimensional indexing (e.g. `obj[:, None]`) is deprecated and will be removed in a future version.  Convert to a numpy array before indexing instead.\n",
      "  x[:, None]\n",
      "/Users/michaelkwok/opt/anaconda3/lib/python3.7/site-packages/matplotlib/axes/_base.py:276: FutureWarning: Support for multi-dimensional indexing (e.g. `obj[:, None]`) is deprecated and will be removed in a future version.  Convert to a numpy array before indexing instead.\n",
      "  x = x[:, np.newaxis]\n",
      "/Users/michaelkwok/opt/anaconda3/lib/python3.7/site-packages/matplotlib/axes/_base.py:278: FutureWarning: Support for multi-dimensional indexing (e.g. `obj[:, None]`) is deprecated and will be removed in a future version.  Convert to a numpy array before indexing instead.\n",
      "  y = y[:, np.newaxis]\n"
     ]
    },
    {
     "data": {
      "image/png": "[encoded data removed]",
      "text/plain": [
       "<Figure size 432x288 with 1 Axes>"
      ]
     },
     "metadata": {
      "needs_background": "light"
     },
     "output_type": "display_data"
    }
   ],
   "source": [
    "run_func(.1)"
   ]
  },
  {
   "cell_type": "code",
   "execution_count": null,
   "metadata": {},
   "outputs": [],
   "source": []
  }
 ],
 "metadata": {
  "kernelspec": {
   "display_name": "Python 3 (ipykernel)",
   "language": "python",
   "name": "python3"
  },
  "language_info": {
   "codemirror_mode": {
    "name": "ipython",
    "version": 3
   },
   "file_extension": ".py",
   "mimetype": "text/x-python",
   "name": "python",
   "nbconvert_exporter": "python",
   "pygments_lexer": "ipython3",
   "version": "3.7.4"
  }
 },
 "nbformat": 4,
 "nbformat_minor": 2
}
