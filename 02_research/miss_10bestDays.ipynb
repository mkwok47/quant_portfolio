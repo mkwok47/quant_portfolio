{
 "cells": [
  {
   "cell_type": "markdown",
   "metadata": {},
   "source": [
    "# Purpose\n",
    "\n",
    "Validating the following statement I read in a 2020 news article:\n",
    "- \"Looking at data going back to 1930, the firm found that if an investor missed the S&P500's 10 best days each decade, the total return would stand at 28%. If, on the other hand, the investor held steady through the ups and downs, the return would have been 17,715%.\"\n",
    "- source: https://www.cnbc.com/2021/03/24/this-chart-shows-why-investors-should-never-try-to-time-the-stock-market.html\n",
    "\n",
    "My findings as of 6/3/2022:\n",
    "- I capped date around 2020-02-25 to get the ~17,715% cum_prod claimed\n",
    "- Taking out the 10 best returns per decade (starting from 1930) and recalculating the cum_prod though, I get 131% (231% minus initial investment of 1) instead of 28%\n",
    "- It appears the news article compounded the returns every decade whereas I compound every day, so that is the discrepancy"
   ]
  },
  {
   "cell_type": "code",
   "execution_count": 1,
   "metadata": {},
   "outputs": [],
   "source": [
    "import pandas as pd\n",
    "import matplotlib.pyplot as plt"
   ]
  },
  {
   "cell_type": "markdown",
   "metadata": {},
   "source": [
    "# Since 1930"
   ]
  },
  {
   "cell_type": "code",
   "execution_count": 2,
   "metadata": {
    "scrolled": true
   },
   "outputs": [
    {
     "data": {
      "text/html": [
       "<div>\n",
       "<style scoped>\n",
       "    .dataframe tbody tr th:only-of-type {\n",
       "        vertical-align: middle;\n",
       "    }\n",
       "\n",
       "    .dataframe tbody tr th {\n",
       "        vertical-align: top;\n",
       "    }\n",
       "\n",
       "    .dataframe thead th {\n",
       "        text-align: right;\n",
       "    }\n",
       "</style>\n",
       "<table border=\"1\" class=\"dataframe\">\n",
       "  <thead>\n",
       "    <tr style=\"text-align: right;\">\n",
       "      <th></th>\n",
       "      <th>Date</th>\n",
       "      <th>Open</th>\n",
       "      <th>High</th>\n",
       "      <th>Low</th>\n",
       "      <th>Close</th>\n",
       "      <th>Adj Close</th>\n",
       "      <th>Volume</th>\n",
       "      <th>Return</th>\n",
       "      <th>Investment_value</th>\n",
       "    </tr>\n",
       "  </thead>\n",
       "  <tbody>\n",
       "    <tr>\n",
       "      <th>0</th>\n",
       "      <td>1927-12-30</td>\n",
       "      <td>17.660000</td>\n",
       "      <td>17.660000</td>\n",
       "      <td>17.660000</td>\n",
       "      <td>17.660000</td>\n",
       "      <td>17.660000</td>\n",
       "      <td>0</td>\n",
       "      <td>NaN</td>\n",
       "      <td>NaN</td>\n",
       "    </tr>\n",
       "    <tr>\n",
       "      <th>1</th>\n",
       "      <td>1928-01-03</td>\n",
       "      <td>17.760000</td>\n",
       "      <td>17.760000</td>\n",
       "      <td>17.760000</td>\n",
       "      <td>17.760000</td>\n",
       "      <td>17.760000</td>\n",
       "      <td>0</td>\n",
       "      <td>0.005663</td>\n",
       "      <td>1.005663</td>\n",
       "    </tr>\n",
       "    <tr>\n",
       "      <th>2</th>\n",
       "      <td>1928-01-04</td>\n",
       "      <td>17.719999</td>\n",
       "      <td>17.719999</td>\n",
       "      <td>17.719999</td>\n",
       "      <td>17.719999</td>\n",
       "      <td>17.719999</td>\n",
       "      <td>0</td>\n",
       "      <td>-0.002252</td>\n",
       "      <td>1.003397</td>\n",
       "    </tr>\n",
       "    <tr>\n",
       "      <th>3</th>\n",
       "      <td>1928-01-05</td>\n",
       "      <td>17.549999</td>\n",
       "      <td>17.549999</td>\n",
       "      <td>17.549999</td>\n",
       "      <td>17.549999</td>\n",
       "      <td>17.549999</td>\n",
       "      <td>0</td>\n",
       "      <td>-0.009594</td>\n",
       "      <td>0.993771</td>\n",
       "    </tr>\n",
       "    <tr>\n",
       "      <th>4</th>\n",
       "      <td>1928-01-06</td>\n",
       "      <td>17.660000</td>\n",
       "      <td>17.660000</td>\n",
       "      <td>17.660000</td>\n",
       "      <td>17.660000</td>\n",
       "      <td>17.660000</td>\n",
       "      <td>0</td>\n",
       "      <td>0.006268</td>\n",
       "      <td>1.000000</td>\n",
       "    </tr>\n",
       "    <tr>\n",
       "      <th>...</th>\n",
       "      <td>...</td>\n",
       "      <td>...</td>\n",
       "      <td>...</td>\n",
       "      <td>...</td>\n",
       "      <td>...</td>\n",
       "      <td>...</td>\n",
       "      <td>...</td>\n",
       "      <td>...</td>\n",
       "      <td>...</td>\n",
       "    </tr>\n",
       "    <tr>\n",
       "      <th>23140</th>\n",
       "      <td>2020-02-18</td>\n",
       "      <td>3369.040039</td>\n",
       "      <td>3375.010010</td>\n",
       "      <td>3355.610107</td>\n",
       "      <td>3370.290039</td>\n",
       "      <td>3370.290039</td>\n",
       "      <td>3746720000</td>\n",
       "      <td>-0.002920</td>\n",
       "      <td>190.843151</td>\n",
       "    </tr>\n",
       "    <tr>\n",
       "      <th>23141</th>\n",
       "      <td>2020-02-19</td>\n",
       "      <td>3380.389893</td>\n",
       "      <td>3393.520020</td>\n",
       "      <td>3378.830078</td>\n",
       "      <td>3386.149902</td>\n",
       "      <td>3386.149902</td>\n",
       "      <td>3600150000</td>\n",
       "      <td>0.004706</td>\n",
       "      <td>191.741218</td>\n",
       "    </tr>\n",
       "    <tr>\n",
       "      <th>23142</th>\n",
       "      <td>2020-02-20</td>\n",
       "      <td>3380.449951</td>\n",
       "      <td>3389.149902</td>\n",
       "      <td>3341.020020</td>\n",
       "      <td>3373.229980</td>\n",
       "      <td>3373.229980</td>\n",
       "      <td>4007320000</td>\n",
       "      <td>-0.003816</td>\n",
       "      <td>191.009625</td>\n",
       "    </tr>\n",
       "    <tr>\n",
       "      <th>23143</th>\n",
       "      <td>2020-02-21</td>\n",
       "      <td>3360.500000</td>\n",
       "      <td>3360.760010</td>\n",
       "      <td>3328.449951</td>\n",
       "      <td>3337.750000</td>\n",
       "      <td>3337.750000</td>\n",
       "      <td>3899270000</td>\n",
       "      <td>-0.010518</td>\n",
       "      <td>189.000566</td>\n",
       "    </tr>\n",
       "    <tr>\n",
       "      <th>23144</th>\n",
       "      <td>2020-02-24</td>\n",
       "      <td>3257.610107</td>\n",
       "      <td>3259.810059</td>\n",
       "      <td>3214.649902</td>\n",
       "      <td>3225.889893</td>\n",
       "      <td>3225.889893</td>\n",
       "      <td>4842960000</td>\n",
       "      <td>-0.033514</td>\n",
       "      <td>182.666472</td>\n",
       "    </tr>\n",
       "  </tbody>\n",
       "</table>\n",
       "<p>23145 rows × 9 columns</p>\n",
       "</div>"
      ],
      "text/plain": [
       "             Date         Open         High          Low        Close  \\\n",
       "0      1927-12-30    17.660000    17.660000    17.660000    17.660000   \n",
       "1      1928-01-03    17.760000    17.760000    17.760000    17.760000   \n",
       "2      1928-01-04    17.719999    17.719999    17.719999    17.719999   \n",
       "3      1928-01-05    17.549999    17.549999    17.549999    17.549999   \n",
       "4      1928-01-06    17.660000    17.660000    17.660000    17.660000   \n",
       "...           ...          ...          ...          ...          ...   \n",
       "23140  2020-02-18  3369.040039  3375.010010  3355.610107  3370.290039   \n",
       "23141  2020-02-19  3380.389893  3393.520020  3378.830078  3386.149902   \n",
       "23142  2020-02-20  3380.449951  3389.149902  3341.020020  3373.229980   \n",
       "23143  2020-02-21  3360.500000  3360.760010  3328.449951  3337.750000   \n",
       "23144  2020-02-24  3257.610107  3259.810059  3214.649902  3225.889893   \n",
       "\n",
       "         Adj Close      Volume    Return  Investment_value  \n",
       "0        17.660000           0       NaN               NaN  \n",
       "1        17.760000           0  0.005663          1.005663  \n",
       "2        17.719999           0 -0.002252          1.003397  \n",
       "3        17.549999           0 -0.009594          0.993771  \n",
       "4        17.660000           0  0.006268          1.000000  \n",
       "...            ...         ...       ...               ...  \n",
       "23140  3370.290039  3746720000 -0.002920        190.843151  \n",
       "23141  3386.149902  3600150000  0.004706        191.741218  \n",
       "23142  3373.229980  4007320000 -0.003816        191.009625  \n",
       "23143  3337.750000  3899270000 -0.010518        189.000566  \n",
       "23144  3225.889893  4842960000 -0.033514        182.666472  \n",
       "\n",
       "[23145 rows x 9 columns]"
      ]
     },
     "execution_count": 2,
     "metadata": {},
     "output_type": "execute_result"
    }
   ],
   "source": [
    "df = pd.read_csv(r'SPX_1_8_2021.csv')\n",
    "df['Return'] = df['Adj Close'] / df['Adj Close'].shift(1) - 1\n",
    "df['Investment_value'] = (1+df['Return']).cumprod()\n",
    "df[df.Date < '2020-02-25']"
   ]
  },
  {
   "cell_type": "markdown",
   "metadata": {},
   "source": [
    "# Obtain best 10 days per decade"
   ]
  },
  {
   "cell_type": "code",
   "execution_count": 3,
   "metadata": {},
   "outputs": [
    {
     "name": "stdout",
     "output_type": "stream",
     "text": [
      "1930\n"
     ]
    },
    {
     "data": {
      "text/plain": [
       "657    0.026786\n",
       "610    0.028150\n",
       "624    0.032812\n",
       "586    0.033943\n",
       "705    0.035006\n",
       "633    0.039416\n",
       "689    0.044648\n",
       "741    0.046399\n",
       "617    0.046828\n",
       "562    0.050518\n",
       "Name: Return, dtype: float64"
      ]
     },
     "metadata": {},
     "output_type": "display_data"
    },
    {
     "name": "stdout",
     "output_type": "stream",
     "text": [
      "1940\n"
     ]
    },
    {
     "data": {
      "text/plain": [
       "3157    0.017946\n",
       "3116    0.019173\n",
       "3166    0.020833\n",
       "3097    0.024017\n",
       "3110    0.024742\n",
       "3141    0.024802\n",
       "3179    0.029273\n",
       "3107    0.047831\n",
       "3108    0.049894\n",
       "3211    0.055607\n",
       "Name: Return, dtype: float64"
      ]
     },
     "metadata": {},
     "output_type": "display_data"
    },
    {
     "name": "stdout",
     "output_type": "stream",
     "text": [
      "1950\n"
     ]
    },
    {
     "data": {
      "text/plain": [
       "5577    0.014477\n",
       "5645    0.014884\n",
       "5602    0.015054\n",
       "5727    0.016316\n",
       "5731    0.016495\n",
       "5686    0.017294\n",
       "5632    0.017585\n",
       "5742    0.019076\n",
       "5631    0.022782\n",
       "5736    0.026901\n",
       "Name: Return, dtype: float64"
      ]
     },
     "metadata": {},
     "output_type": "display_data"
    },
    {
     "name": "stdout",
     "output_type": "stream",
     "text": [
      "1960\n"
     ]
    },
    {
     "data": {
      "text/plain": [
       "8215    0.010745\n",
       "8114    0.011737\n",
       "8091    0.012932\n",
       "8040    0.013992\n",
       "8028    0.015368\n",
       "8214    0.016283\n",
       "8196    0.017104\n",
       "8152    0.017226\n",
       "8224    0.019512\n",
       "8073    0.020589\n",
       "Name: Return, dtype: float64"
      ]
     },
     "metadata": {},
     "output_type": "display_data"
    },
    {
     "name": "stdout",
     "output_type": "stream",
     "text": [
      "1970\n"
     ]
    },
    {
     "data": {
      "text/plain": [
       "10658    0.017986\n",
       "10577    0.019185\n",
       "10589    0.019353\n",
       "10553    0.020345\n",
       "10611    0.021051\n",
       "10659    0.022085\n",
       "10626    0.024849\n",
       "10598    0.025285\n",
       "10599    0.026002\n",
       "10597    0.050224\n",
       "Name: Return, dtype: float64"
      ]
     },
     "metadata": {},
     "output_type": "display_data"
    },
    {
     "name": "stdout",
     "output_type": "stream",
     "text": [
      "1980\n"
     ]
    },
    {
     "data": {
      "text/plain": [
       "13075    0.017993\n",
       "13156    0.018415\n",
       "13215    0.018557\n",
       "13090    0.018874\n",
       "13129    0.019003\n",
       "13192    0.019234\n",
       "13026    0.020036\n",
       "13083    0.025046\n",
       "13241    0.025370\n",
       "13099    0.036373\n",
       "Name: Return, dtype: float64"
      ]
     },
     "metadata": {},
     "output_type": "display_data"
    },
    {
     "name": "stdout",
     "output_type": "stream",
     "text": [
      "1990\n"
     ]
    },
    {
     "data": {
      "text/plain": [
       "15550    0.017799\n",
       "15769    0.018295\n",
       "15782    0.018330\n",
       "15571    0.018887\n",
       "15768    0.019928\n",
       "15753    0.022045\n",
       "15752    0.023363\n",
       "15641    0.023791\n",
       "15739    0.029048\n",
       "15715    0.031877\n",
       "Name: Return, dtype: float64"
      ]
     },
     "metadata": {},
     "output_type": "display_data"
    },
    {
     "name": "stdout",
     "output_type": "stream",
     "text": [
      "2000\n"
     ]
    },
    {
     "data": {
      "text/plain": [
       "18124    0.025602\n",
       "18082    0.027090\n",
       "18152    0.028663\n",
       "18180    0.032242\n",
       "18151    0.033084\n",
       "18156    0.033276\n",
       "18276    0.033381\n",
       "18280    0.034743\n",
       "18312    0.038922\n",
       "18129    0.047646\n",
       "Name: Return, dtype: float64"
      ]
     },
     "metadata": {},
     "output_type": "display_data"
    },
    {
     "name": "stdout",
     "output_type": "stream",
     "text": [
      "2010\n"
     ]
    },
    {
     "data": {
      "text/plain": [
       "20823    0.021617\n",
       "20738    0.022023\n",
       "20731    0.022513\n",
       "20705    0.023494\n",
       "20696    0.025843\n",
       "20760    0.029505\n",
       "20702    0.029507\n",
       "20720    0.031331\n",
       "20693    0.032876\n",
       "20680    0.043974\n",
       "Name: Return, dtype: float64"
      ]
     },
     "metadata": {},
     "output_type": "display_data"
    },
    {
     "name": "stdout",
     "output_type": "stream",
     "text": [
      "2020\n"
     ]
    },
    {
     "data": {
      "text/plain": [
       "23169    0.033516\n",
       "23176    0.034056\n",
       "23151    0.042203\n",
       "23149    0.046039\n",
       "23155    0.049396\n",
       "23160    0.059955\n",
       "23167    0.062414\n",
       "23174    0.070331\n",
       "23158    0.092871\n",
       "23165    0.093828\n",
       "Name: Return, dtype: float64"
      ]
     },
     "metadata": {},
     "output_type": "display_data"
    }
   ],
   "source": [
    "best_indices = []\n",
    "for year in range(1930, 2021, 10):\n",
    "    best_indices += [ind for ind in df[(df.Date.str[:4]>=str(year))&\\\n",
    "                    (df.Date.str[:4]<str(year+10))].Return.sort_values()[-10:].index]\n",
    "    print(year)\n",
    "    display(df[df.Date.str[:4]==str(year)].Return.sort_values()[-10:])"
   ]
  },
  {
   "cell_type": "markdown",
   "metadata": {},
   "source": [
    "# Omit best 10 days per decade"
   ]
  },
  {
   "cell_type": "code",
   "execution_count": 4,
   "metadata": {
    "scrolled": true
   },
   "outputs": [
    {
     "data": {
      "text/html": [
       "<div>\n",
       "<style scoped>\n",
       "    .dataframe tbody tr th:only-of-type {\n",
       "        vertical-align: middle;\n",
       "    }\n",
       "\n",
       "    .dataframe tbody tr th {\n",
       "        vertical-align: top;\n",
       "    }\n",
       "\n",
       "    .dataframe thead th {\n",
       "        text-align: right;\n",
       "    }\n",
       "</style>\n",
       "<table border=\"1\" class=\"dataframe\">\n",
       "  <thead>\n",
       "    <tr style=\"text-align: right;\">\n",
       "      <th></th>\n",
       "      <th>Date</th>\n",
       "      <th>Open</th>\n",
       "      <th>High</th>\n",
       "      <th>Low</th>\n",
       "      <th>Close</th>\n",
       "      <th>Adj Close</th>\n",
       "      <th>Volume</th>\n",
       "      <th>Return</th>\n",
       "      <th>Investment_value</th>\n",
       "    </tr>\n",
       "  </thead>\n",
       "  <tbody>\n",
       "    <tr>\n",
       "      <th>0</th>\n",
       "      <td>1927-12-30</td>\n",
       "      <td>17.660000</td>\n",
       "      <td>17.660000</td>\n",
       "      <td>17.660000</td>\n",
       "      <td>17.660000</td>\n",
       "      <td>17.660000</td>\n",
       "      <td>0</td>\n",
       "      <td>NaN</td>\n",
       "      <td>NaN</td>\n",
       "    </tr>\n",
       "    <tr>\n",
       "      <th>1</th>\n",
       "      <td>1928-01-03</td>\n",
       "      <td>17.760000</td>\n",
       "      <td>17.760000</td>\n",
       "      <td>17.760000</td>\n",
       "      <td>17.760000</td>\n",
       "      <td>17.760000</td>\n",
       "      <td>0</td>\n",
       "      <td>0.005663</td>\n",
       "      <td>1.005663</td>\n",
       "    </tr>\n",
       "    <tr>\n",
       "      <th>2</th>\n",
       "      <td>1928-01-04</td>\n",
       "      <td>17.719999</td>\n",
       "      <td>17.719999</td>\n",
       "      <td>17.719999</td>\n",
       "      <td>17.719999</td>\n",
       "      <td>17.719999</td>\n",
       "      <td>0</td>\n",
       "      <td>-0.002252</td>\n",
       "      <td>1.003397</td>\n",
       "    </tr>\n",
       "    <tr>\n",
       "      <th>3</th>\n",
       "      <td>1928-01-05</td>\n",
       "      <td>17.549999</td>\n",
       "      <td>17.549999</td>\n",
       "      <td>17.549999</td>\n",
       "      <td>17.549999</td>\n",
       "      <td>17.549999</td>\n",
       "      <td>0</td>\n",
       "      <td>-0.009594</td>\n",
       "      <td>0.993771</td>\n",
       "    </tr>\n",
       "    <tr>\n",
       "      <th>4</th>\n",
       "      <td>1928-01-06</td>\n",
       "      <td>17.660000</td>\n",
       "      <td>17.660000</td>\n",
       "      <td>17.660000</td>\n",
       "      <td>17.660000</td>\n",
       "      <td>17.660000</td>\n",
       "      <td>0</td>\n",
       "      <td>0.006268</td>\n",
       "      <td>1.000000</td>\n",
       "    </tr>\n",
       "    <tr>\n",
       "      <th>...</th>\n",
       "      <td>...</td>\n",
       "      <td>...</td>\n",
       "      <td>...</td>\n",
       "      <td>...</td>\n",
       "      <td>...</td>\n",
       "      <td>...</td>\n",
       "      <td>...</td>\n",
       "      <td>...</td>\n",
       "      <td>...</td>\n",
       "    </tr>\n",
       "    <tr>\n",
       "      <th>23083</th>\n",
       "      <td>2019-11-22</td>\n",
       "      <td>3111.409912</td>\n",
       "      <td>3112.870117</td>\n",
       "      <td>3099.260010</td>\n",
       "      <td>3110.290039</td>\n",
       "      <td>3110.290039</td>\n",
       "      <td>3226780000</td>\n",
       "      <td>0.002175</td>\n",
       "      <td>2.290570</td>\n",
       "    </tr>\n",
       "    <tr>\n",
       "      <th>23084</th>\n",
       "      <td>2019-11-25</td>\n",
       "      <td>3117.439941</td>\n",
       "      <td>3133.830078</td>\n",
       "      <td>3117.439941</td>\n",
       "      <td>3133.639893</td>\n",
       "      <td>3133.639893</td>\n",
       "      <td>3511530000</td>\n",
       "      <td>0.007507</td>\n",
       "      <td>2.307766</td>\n",
       "    </tr>\n",
       "    <tr>\n",
       "      <th>23085</th>\n",
       "      <td>2019-11-26</td>\n",
       "      <td>3134.850098</td>\n",
       "      <td>3142.689941</td>\n",
       "      <td>3131.000000</td>\n",
       "      <td>3140.520020</td>\n",
       "      <td>3140.520020</td>\n",
       "      <td>4595590000</td>\n",
       "      <td>0.002196</td>\n",
       "      <td>2.312833</td>\n",
       "    </tr>\n",
       "    <tr>\n",
       "      <th>23086</th>\n",
       "      <td>2019-11-27</td>\n",
       "      <td>3145.489990</td>\n",
       "      <td>3154.260010</td>\n",
       "      <td>3143.409912</td>\n",
       "      <td>3153.629883</td>\n",
       "      <td>3153.629883</td>\n",
       "      <td>3033090000</td>\n",
       "      <td>0.004174</td>\n",
       "      <td>2.322488</td>\n",
       "    </tr>\n",
       "    <tr>\n",
       "      <th>23087</th>\n",
       "      <td>2019-11-29</td>\n",
       "      <td>3147.179932</td>\n",
       "      <td>3150.300049</td>\n",
       "      <td>3139.340088</td>\n",
       "      <td>3140.979980</td>\n",
       "      <td>3140.979980</td>\n",
       "      <td>1743020000</td>\n",
       "      <td>-0.004011</td>\n",
       "      <td>2.313172</td>\n",
       "    </tr>\n",
       "  </tbody>\n",
       "</table>\n",
       "<p>22998 rows × 9 columns</p>\n",
       "</div>"
      ],
      "text/plain": [
       "             Date         Open         High          Low        Close  \\\n",
       "0      1927-12-30    17.660000    17.660000    17.660000    17.660000   \n",
       "1      1928-01-03    17.760000    17.760000    17.760000    17.760000   \n",
       "2      1928-01-04    17.719999    17.719999    17.719999    17.719999   \n",
       "3      1928-01-05    17.549999    17.549999    17.549999    17.549999   \n",
       "4      1928-01-06    17.660000    17.660000    17.660000    17.660000   \n",
       "...           ...          ...          ...          ...          ...   \n",
       "23083  2019-11-22  3111.409912  3112.870117  3099.260010  3110.290039   \n",
       "23084  2019-11-25  3117.439941  3133.830078  3117.439941  3133.639893   \n",
       "23085  2019-11-26  3134.850098  3142.689941  3131.000000  3140.520020   \n",
       "23086  2019-11-27  3145.489990  3154.260010  3143.409912  3153.629883   \n",
       "23087  2019-11-29  3147.179932  3150.300049  3139.340088  3140.979980   \n",
       "\n",
       "         Adj Close      Volume    Return  Investment_value  \n",
       "0        17.660000           0       NaN               NaN  \n",
       "1        17.760000           0  0.005663          1.005663  \n",
       "2        17.719999           0 -0.002252          1.003397  \n",
       "3        17.549999           0 -0.009594          0.993771  \n",
       "4        17.660000           0  0.006268          1.000000  \n",
       "...            ...         ...       ...               ...  \n",
       "23083  3110.290039  3226780000  0.002175          2.290570  \n",
       "23084  3133.639893  3511530000  0.007507          2.307766  \n",
       "23085  3140.520020  4595590000  0.002196          2.312833  \n",
       "23086  3153.629883  3033090000  0.004174          2.322488  \n",
       "23087  3140.979980  1743020000 -0.004011          2.313172  \n",
       "\n",
       "[22998 rows x 9 columns]"
      ]
     },
     "execution_count": 4,
     "metadata": {},
     "output_type": "execute_result"
    }
   ],
   "source": [
    "df_missed = df.copy(deep=True)\n",
    "\n",
    "df_missed.drop(index=best_indices, inplace=True)\n",
    "df_missed['Investment_value'] = (1+df_missed['Return']).cumprod()\n",
    "\n",
    "df_missed[df_missed.Date < '2019-12-01']"
   ]
  },
  {
   "cell_type": "markdown",
   "metadata": {},
   "source": [
    "# Plot results"
   ]
  },
  {
   "cell_type": "code",
   "execution_count": 23,
   "metadata": {},
   "outputs": [],
   "source": [
    "df.index = pd.to_datetime(df.set_index('Date').index)\n",
    "df_missed.index = pd.to_datetime(df_missed.set_index('Date').index)"
   ]
  },
  {
   "cell_type": "code",
   "execution_count": 24,
   "metadata": {},
   "outputs": [
    {
     "data": {
      "image/png": "[encoded data removed]",
      "text/plain": [
       "<Figure size 432x288 with 1 Axes>"
      ]
     },
     "metadata": {
      "needs_background": "light"
     },
     "output_type": "display_data"
    }
   ],
   "source": [
    "plt.title('Fully invested')\n",
    "plt.plot(df.Investment_value)\n",
    "plt.show()"
   ]
  },
  {
   "cell_type": "code",
   "execution_count": 25,
   "metadata": {},
   "outputs": [
    {
     "data": {
      "image/png": "[encoded data removed]",
      "text/plain": [
       "<Figure size 432x288 with 1 Axes>"
      ]
     },
     "metadata": {
      "needs_background": "light"
     },
     "output_type": "display_data"
    }
   ],
   "source": [
    "plt.title('Missing 10 best days per decade')\n",
    "plt.plot(df_missed.Investment_value)\n",
    "plt.show()"
   ]
  },
  {
   "cell_type": "code",
   "execution_count": 26,
   "metadata": {},
   "outputs": [
    {
     "data": {
      "image/png": "[encoded data removed]",
      "text/plain": [
       "<Figure size 432x288 with 1 Axes>"
      ]
     },
     "metadata": {
      "needs_background": "light"
     },
     "output_type": "display_data"
    }
   ],
   "source": [
    "plt.title('Fully invested minus issing 10 best days per decade')\n",
    "plt.plot(df.Investment_value - df_missed.Investment_value)\n",
    "plt.show()"
   ]
  },
  {
   "cell_type": "code",
   "execution_count": null,
   "metadata": {},
   "outputs": [],
   "source": []
  }
 ],
 "metadata": {
  "kernelspec": {
   "display_name": "Python 3 (ipykernel)",
   "language": "python",
   "name": "python3"
  },
  "language_info": {
   "codemirror_mode": {
    "name": "ipython",
    "version": 3
   },
   "file_extension": ".py",
   "mimetype": "text/x-python",
   "name": "python",
   "nbconvert_exporter": "python",
   "pygments_lexer": "ipython3",
   "version": "3.7.4"
  }
 },
 "nbformat": 4,
 "nbformat_minor": 2
}
